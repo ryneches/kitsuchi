{
 "cells": [
  {
   "cell_type": "code",
   "execution_count": 3,
   "id": "ab4d812f",
   "metadata": {},
   "outputs": [],
   "source": [
    "from Bio.SeqIO import parse\n",
    "import pandas"
   ]
  },
  {
   "cell_type": "code",
   "execution_count": 4,
   "id": "fddaffce",
   "metadata": {},
   "outputs": [],
   "source": [
    "from collections import defaultdict\n",
    "import pandas as pd\n",
    "from Bio import SearchIO\n",
    "from colorama import Fore, Back, Style\n",
    "\n",
    "attribs = [ 'accession', 'bias', 'bitscore', 'description',\n",
    "            'cluster_num', 'domain_exp_num', 'domain_included_num',\n",
    "            'domain_obs_num', 'domain_reported_num', 'env_num',\n",
    "            'evalue', 'id', 'overlap_num', 'region_num']\n",
    "\n",
    "hitlist = {}\n",
    "\n",
    "for hmm_hits in snakemake.input.hits :\n",
    "    hits = defaultdict(list)\n",
    "    with open( hmm_hits ) as handle :\n",
    "        for queryresult in SearchIO.parse( handle, 'hmmer3-tab' ) :\n",
    "            for hit in queryresult.hits :\n",
    "                for attrib in attribs :\n",
    "                    hits[attrib].append( getattr(hit, attrib) )\n",
    "                hitlist[hit.id] = { 'hmm'      : queryresult.id,\n",
    "                                    'bitscore' : hit.bitscore }\n",
    "\n",
    "# Note : cointing proteins from 1 instead of 0 because that's how\n",
    "# prodigal does it. Other counts are from 0.\n",
    "\n",
    "with open( 'statistics/search_results.txt', 'w' ) as f :\n",
    "    for fna,faa in list( zip( snakemake.input.genomes, snakemake.input.proteins ) ) :\n",
    "        print( fna )\n",
    "        f.write( fna + '\\n')\n",
    "        contigs  = [ rec.id for rec in parse( open( fna ), 'fasta' ) ]\n",
    "        proteins = [ rec.id for rec in parse( open( faa ), 'fasta' ) ]\n",
    "        annot = {}\n",
    "        for r in proteins :\n",
    "            contig = r.rsplit('_', 1)[0]\n",
    "            if not contig in annot :\n",
    "                annot[contig] = []\n",
    "            annot[contig].append( r )\n",
    "        for n,contig in enumerate( contigs ) :    \n",
    "            print(   '   contig {n} : {c} '.format( n=n, c=contig ) )\n",
    "            f.write( '   contig {n} : {c} '.format( n=n, c=contig ) + '\\n' )\n",
    "            for m,protein in enumerate( annot[contig] ) :\n",
    "                \n",
    "                if protein in hitlist :\n",
    "                    print( Fore.RED + '      protien {m} : {p}'.format( m=m+1, p=protein ) )\n",
    "                    print( Fore.RED + '         hmm : {h} bitscore {b}'.format( h=hitlist[protein]['hmm'],\n",
    "                                                                                b=hitlist[protein]['bitscore'] )\n",
    "                           + Style.RESET_ALL )\n",
    "                    \n",
    "                    f.write( '      protien {m} : {p}\\n'.format( m=m+1, p=protein ) )\n",
    "                    f.write( '         hmm : {h} bitscore {b}\\n'.format( h=hitlist[protein]['hmm'],\n",
    "                                                                                b=hitlist[protein]['bitscore'] ) )\n",
    "                else :\n",
    "                    print(   '      protien {m} : {p}'.format( m=m+1, p=protein ) )\n",
    "                    f.write( '      protien {m} : {p}\\n'.format( m=m+1, p=protein ) )"
   ]
  },
  {
   "cell_type": "code",
   "execution_count": null,
   "id": "a01e2c7a",
   "metadata": {},
   "outputs": [],
   "source": [
    "'''\n",
    "from SuchTree import SuchTree\n",
    "from itertools import combinations\n",
    "import seaborn\n",
    "\n",
    "forest = {}\n",
    "for nwk in snakemake.input.trees :\n",
    "    forest[nwk] = SuchTree( nwk )\n",
    "\n",
    "for a,b in combinations( forest, 2 ) :\n",
    "    T1 = forest[a]\n",
    "    T2 = forest[b]\n",
    "    leafs = set( T1.leafs.keys() ) & set( T2.leafs.keys() )\n",
    "    X = T1.distances_by_name( list( combinations( leafs, 2 ) ) )\n",
    "    Y = T2.distances_by_name( list( combinations( leafs, 2 ) ) )\n",
    "    distances[ frozenset( ( a, b ) ) ] = { a : X, b : Y }\n",
    "'''"
   ]
  },
  {
   "cell_type": "code",
   "execution_count": 6,
   "id": "11202e9b",
   "metadata": {},
   "outputs": [],
   "source": [
    "with open( 'statistics/summary.txt', 'w' ) as f :\n",
    "    f.write( 'done' )"
   ]
  }
 ],
 "metadata": {
  "kernelspec": {
   "display_name": "Python 3 (ipykernel)",
   "language": "python",
   "name": "python3"
  },
  "language_info": {
   "codemirror_mode": {
    "name": "ipython",
    "version": 3
   },
   "file_extension": ".py",
   "mimetype": "text/x-python",
   "name": "python",
   "nbconvert_exporter": "python",
   "pygments_lexer": "ipython3",
   "version": "3.9.13"
  }
 },
 "nbformat": 4,
 "nbformat_minor": 5
}
